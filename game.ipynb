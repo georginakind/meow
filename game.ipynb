{
 "cells": [
  {
   "cell_type": "code",
   "execution_count": 4,
   "metadata": {},
   "outputs": [
    {
     "name": "stdout",
     "output_type": "stream",
     "text": [
      "DOES THIS SAVE HUH STUPID FUCKING GAME\n"
     ]
    }
   ],
   "source": [
    "print(\"DOES THIS SAVE HUH STUPID FUCKING GAME\")"
   ]
  },
  {
   "cell_type": "code",
   "execution_count": 79,
   "metadata": {},
   "outputs": [],
   "source": [
    "import random\n",
    "import pandas as pd\n",
    "from time import sleep"
   ]
  },
  {
   "cell_type": "code",
   "execution_count": 80,
   "metadata": {},
   "outputs": [],
   "source": [
    "meow_songs_file = pd.read_excel(r\"C:\\Users\\gekind\\Desktop\\hits_n_wigs.xlsx\")\n",
    "meow_list = meow_songs_file['SING'].tolist()\n",
    "#print(meow_list)"
   ]
  },
  {
   "cell_type": "code",
   "execution_count": 81,
   "metadata": {},
   "outputs": [],
   "source": [
    "nhie = pd.read_excel(r\"C:\\Users\\gekind\\Desktop\\never_have_i_ever.xlsx\")\n",
    "#print(nhie)\n",
    "never_list = nhie.values\n",
    "#print(never_list.tolist())"
   ]
  },
  {
   "cell_type": "code",
   "execution_count": 82,
   "metadata": {},
   "outputs": [],
   "source": [
    "action_options = [\"hit the deck\", \"hands up\", \"girls drink\", \"boys drink\", \"they drink\", \"least drunk drink\", \"touch a dog\", \"touch a wall\", \"stand up\"]"
   ]
  },
  {
   "cell_type": "code",
   "execution_count": 83,
   "metadata": {},
   "outputs": [],
   "source": [
    "#create new player list\n",
    "create_player_list = []"
   ]
  },
  {
   "cell_type": "code",
   "execution_count": 84,
   "metadata": {},
   "outputs": [
    {
     "name": "stdout",
     "output_type": "stream",
     "text": [
      "gk\n",
      "jose\n",
      "jose\n",
      "tahls\n",
      "done\n",
      "['gk', 'jose', 'jose', 'tahls']\n"
     ]
    }
   ],
   "source": [
    "#add player names\n",
    "enter_player = input(\"Enter your player name: \")\n",
    "create_player_list.append(enter_player)\n",
    "print(enter_player)\n",
    "while enter_player != \"done\":\n",
    "    enter_player = input(\"Enter your player name: \")\n",
    "    create_player_list.append(enter_player)\n",
    "    print(enter_player)   \n",
    "\n",
    "create_player_list.remove(\"done\")\n",
    "print(create_player_list)"
   ]
  },
  {
   "cell_type": "code",
   "execution_count": 85,
   "metadata": {},
   "outputs": [
    {
     "name": "stdout",
     "output_type": "stream",
     "text": [
      "gk drink!\n"
     ]
    }
   ],
   "source": [
    "#run game\n",
    "\n",
    "decision_options = [\"never have i ever\", \"drink\", \"action\", \"meow\"]\n",
    "decision = random.choice(decision_options)\n",
    "if decision == \"never have i ever\":\n",
    "    never_question = random.choice(never_list)\n",
    "    print(never_question)   \n",
    "    \n",
    "elif decision == \"action\":\n",
    "    action = random.choice(action_options)\n",
    "    print(\"ACTION:\", (action))\n",
    "\n",
    "elif decision == \"meow\":\n",
    "    meow_song_selection = random.choice(meow_list)\n",
    "    player = random.choice(create_player_list)\n",
    "    print((player),\" meow this song\\n\",\n",
    "      \"EVERYONE LOOK AWAY\\n\",)\n",
    "    sleep(5)\n",
    "    print(meow_song_selection)\n",
    "\n",
    "elif decision == \"drink\":\n",
    "    player = random.choice(create_player_list)\n",
    "    print((player), \"drink!\")\n",
    "\n",
    "\n",
    "else: print(decision)"
   ]
  },
  {
   "cell_type": "code",
   "execution_count": null,
   "metadata": {},
   "outputs": [],
   "source": []
  },
  {
   "cell_type": "code",
   "execution_count": null,
   "metadata": {},
   "outputs": [],
   "source": []
  }
 ],
 "metadata": {
  "kernelspec": {
   "display_name": "Python 3",
   "language": "python",
   "name": "python3"
  },
  "language_info": {
   "codemirror_mode": {
    "name": "ipython",
    "version": 3
   },
   "file_extension": ".py",
   "mimetype": "text/x-python",
   "name": "python",
   "nbconvert_exporter": "python",
   "pygments_lexer": "ipython3",
   "version": "3.9.13"
  },
  "orig_nbformat": 4
 },
 "nbformat": 4,
 "nbformat_minor": 2
}
